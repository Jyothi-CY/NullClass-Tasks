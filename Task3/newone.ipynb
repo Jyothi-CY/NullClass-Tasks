{
 "cells": [
  {
   "cell_type": "code",
   "execution_count": 16,
   "id": "8f20d4c7-dd6e-4dd0-bafd-97247fc5bb75",
   "metadata": {},
   "outputs": [],
   "source": [
    "import pandas as pd\n",
    "import plotly.express as px\n",
    "from datetime import datetime, time\n",
    "import pytz\n",
    "import numpy as np\n"
   ]
  },
  {
   "cell_type": "code",
   "execution_count": 17,
   "id": "ead8e298-745b-4305-8aa4-2bd266b4f373",
   "metadata": {},
   "outputs": [],
   "source": [
    "# 1. Load and clean data\n",
    "apps_df = pd.read_csv(\"E:/Data Analyst Intern Tasks/Jupyter/Cleaned Datasets/Cleaned_GooglePlaystore.csv\")\n",
    "apps_df = apps_df.dropna(subset=['Installs', 'Category'])\n",
    "apps_df['Installs'] = pd.to_numeric(apps_df['Installs'], errors='coerce')"
   ]
  },
  {
   "cell_type": "code",
   "execution_count": 18,
   "id": "6d2b911e-42f8-4140-a569-12ecbdc563e8",
   "metadata": {},
   "outputs": [],
   "source": [
    "# 2. Time check function\n",
    "def is_display_time():\n",
    "    ist = pytz.timezone('Asia/Kolkata')\n",
    "    current_time = datetime.now(ist).time()\n",
    "    return time(18, 0) <= current_time <= time(20, 0)"
   ]
  },
  {
   "cell_type": "code",
   "execution_count": 19,
   "id": "e1a76088-5cba-4afa-8aef-b01be63ffe75",
   "metadata": {},
   "outputs": [],
   "source": [
    "# 3. Filter categories\n",
    "def prepare_data():\n",
    "    # Exclude categories starting with A/C/G/S\n",
    "    filtered = apps_df[~apps_df['Category'].str.startswith(('A', 'C', 'G', 'S'), na=False)]\n",
    "    \n",
    "    # Get top 5 categories\n",
    "    top_cats = filtered.groupby('Category')['Installs'].sum().nlargest(5).index\n",
    "    filtered = filtered[filtered['Category'].isin(top_cats)]\n",
    "    \n",
    "    # Add dummy country data\n",
    "    countries = ['United States', 'India', 'Brazil', 'United Kingdom', 'Japan', \n",
    "             'Germany', 'France', 'China', 'Russia', 'Mexico']\n",
    "    filtered['Country'] = np.random.choice(countries, size=len(filtered))\n",
    "    \n",
    "    # Aggregate data\n",
    "    map_data = filtered.groupby(['Country', 'Category'])['Installs'].sum().reset_index()\n",
    "    map_data['Highlight'] = map_data['Installs'] > 1000000\n",
    "    \n",
    "    return map_data"
   ]
  },
  {
   "cell_type": "code",
   "execution_count": 20,
   "id": "c6268110-6403-4fef-943a-85417361e492",
   "metadata": {},
   "outputs": [],
   "source": [
    "# 4. Create Choropleth map with proper highlighting\n",
    "'''def create_map():\n",
    "    if not is_display_time():\n",
    "        print(\"Map only available between 6-8 PM IST\")\n",
    "        return None\n",
    "    \n",
    "    data = prepare_data()\n",
    "    \n",
    "    # Create figure with custom data for highlighting\n",
    "    fig = px.choropleth(\n",
    "        data,\n",
    "        locations=\"Country\",\n",
    "        locationmode=\"country names\",\n",
    "        color=\"Installs\",\n",
    "        hover_name=\"Category\",\n",
    "        animation_frame=\"Category\",\n",
    "        #custom_data=[\"Installs\"],  # Include installs in customdata\n",
    "        color_continuous_scale=px.colors.sequential.Plasma,\n",
    "        scope=\"world\",\n",
    "        title=\"Global Installs by Top 5 Categories (Excluding A/C/G/S starters)\",\n",
    "        height=600\n",
    "    )\n",
    "    \n",
    "    \n",
    "\n",
    "\n",
    "    \n",
    "    # Proper highlighting implementation\n",
    "    for frame in fig.frames:\n",
    "        if frame.data and len(frame.data) > 0:\n",
    "            highlight_colors = [\n",
    "                'gold' if inst[0] > 1000000 else 'rgba(0,0,0,0)'\n",
    "                for inst in frame.data[0].customdata\n",
    "            ]\n",
    "            frame.data[0].update(\n",
    "                marker_line_width=2,\n",
    "                marker_line_color=highlight_colors\n",
    "            )\n",
    "    \n",
    "    fig.update_layout(\n",
    "        geo=dict(showframe=False, showcoastlines=True),\n",
    "        margin={\"r\":0,\"t\":50,\"l\":0,\"b\":0}\n",
    "    )\n",
    "    \n",
    "    return fig'''"
   ]
  },
  {
   "cell_type": "code",
   "execution_count": 21,
   "id": "4fd8a4a3-bf01-4805-ad4e-b2ad8336a355",
   "metadata": {},
   "outputs": [
    {
     "data": {
      "application/vnd.plotly.v1+json": {
       "config": {
        "plotlyServerURL": "https://plot.ly"
       },
       "data": [
        {
         "coloraxis": "coloraxis",
         "customdata": {
          "bdata": "Sv36IcqxiR3gSVoSlCmpGzig4xbStnIdcmV3GtxZ/wuiwI0UpAADKw==",
          "dtype": "i4",
          "shape": "10, 1"
         },
         "geo": "geo",
         "hovertemplate": "<b>%{hovertext}</b><br><br>Category=FAMILY<br>Country=%{location}<br>Installs=%{z}<extra></extra>",
         "hovertext": [
          "FAMILY",
          "FAMILY",
          "FAMILY",
          "FAMILY",
          "FAMILY",
          "FAMILY",
          "FAMILY",
          "FAMILY",
          "FAMILY",
          "FAMILY"
         ],
         "locations": [
          "BR",
          "CN",
          "DE",
          "FR",
          "GB",
          "IN",
          "JP",
          "MX",
          "RU",
          "US"
         ],
         "name": "",
         "type": "choropleth",
         "z": {
          "bdata": "Sv36IcqxiR3gSVoSlCmpGzig4xbStnIdcmV3GtxZ/wuiwI0UpAADKw==",
          "dtype": "i4"
         }
        }
       ],
       "frames": [
        {
         "data": [
          {
           "coloraxis": "coloraxis",
           "customdata": {
            "bdata": "Sv36IcqxiR3gSVoSlCmpGzig4xbStnIdcmV3GtxZ/wuiwI0UpAADKw==",
            "dtype": "i4",
            "shape": "10, 1"
           },
           "geo": "geo",
           "hovertemplate": "<b>%{hovertext}</b><br><br>Category=FAMILY<br>Country=%{location}<br>Installs=%{z}<extra></extra>",
           "hovertext": [
            "FAMILY",
            "FAMILY",
            "FAMILY",
            "FAMILY",
            "FAMILY",
            "FAMILY",
            "FAMILY",
            "FAMILY",
            "FAMILY",
            "FAMILY"
           ],
           "locations": [
            "BR",
            "CN",
            "DE",
            "FR",
            "GB",
            "IN",
            "JP",
            "MX",
            "RU",
            "US"
           ],
           "marker": {
            "line": {
             "color": [
              "gold",
              "gold",
              "gold",
              "gold",
              "gold",
              "gold",
              "gold",
              "gold",
              "gold",
              "gold"
             ],
             "width": 2
            }
           },
           "name": "",
           "type": "choropleth",
           "z": {
            "bdata": "Sv36IcqxiR3gSVoSlCmpGzig4xbStnIdcmV3GtxZ/wuiwI0UpAADKw==",
            "dtype": "i4"
           }
          }
         ],
         "name": "FAMILY"
        },
        {
         "data": [
          {
           "coloraxis": "coloraxis",
           "customdata": {
            "bdata": "CJVoEzQzoR/sY40JTJxREUoEHhuIwKxfttBLHrgdbRcew1kQiAxWBg==",
            "dtype": "i4",
            "shape": "10, 1"
           },
           "geo": "geo",
           "hovertemplate": "<b>%{hovertext}</b><br><br>Category=PHOTOGRAPHY<br>Country=%{location}<br>Installs=%{z}<extra></extra>",
           "hovertext": [
            "PHOTOGRAPHY",
            "PHOTOGRAPHY",
            "PHOTOGRAPHY",
            "PHOTOGRAPHY",
            "PHOTOGRAPHY",
            "PHOTOGRAPHY",
            "PHOTOGRAPHY",
            "PHOTOGRAPHY",
            "PHOTOGRAPHY",
            "PHOTOGRAPHY"
           ],
           "locations": [
            "BR",
            "CN",
            "DE",
            "FR",
            "GB",
            "IN",
            "JP",
            "MX",
            "RU",
            "US"
           ],
           "marker": {
            "line": {
             "color": [
              "gold",
              "gold",
              "gold",
              "gold",
              "gold",
              "gold",
              "gold",
              "gold",
              "gold",
              "gold"
             ],
             "width": 2
            }
           },
           "name": "",
           "type": "choropleth",
           "z": {
            "bdata": "CJVoEzQzoR/sY40JTJxREUoEHhuIwKxfttBLHrgdbRcew1kQiAxWBg==",
            "dtype": "i4"
           }
          }
         ],
         "name": "PHOTOGRAPHY"
        },
        {
         "data": [
          {
           "coloraxis": "coloraxis",
           "customdata": {
            "bdata": "OGv+DYibRBVSmU1E4DvOKQQI6QqQg28x+JdyJfYM/BQYALET2C90PQ==",
            "dtype": "i4",
            "shape": "10, 1"
           },
           "geo": "geo",
           "hovertemplate": "<b>%{hovertext}</b><br><br>Category=PRODUCTIVITY<br>Country=%{location}<br>Installs=%{z}<extra></extra>",
           "hovertext": [
            "PRODUCTIVITY",
            "PRODUCTIVITY",
            "PRODUCTIVITY",
            "PRODUCTIVITY",
            "PRODUCTIVITY",
            "PRODUCTIVITY",
            "PRODUCTIVITY",
            "PRODUCTIVITY",
            "PRODUCTIVITY",
            "PRODUCTIVITY"
           ],
           "locations": [
            "BR",
            "CN",
            "DE",
            "FR",
            "GB",
            "IN",
            "JP",
            "MX",
            "RU",
            "US"
           ],
           "marker": {
            "line": {
             "color": [
              "gold",
              "gold",
              "gold",
              "gold",
              "gold",
              "gold",
              "gold",
              "gold",
              "gold",
              "gold"
             ],
             "width": 2
            }
           },
           "name": "",
           "type": "choropleth",
           "z": {
            "bdata": "OGv+DYibRBVSmU1E4DvOKQQI6QqQg28x+JdyJfYM/BQYALET2C90PQ==",
            "dtype": "i4"
           }
          }
         ],
         "name": "PRODUCTIVITY"
        },
        {
         "data": [
          {
           "coloraxis": "coloraxis",
           "customdata": {
            "bdata": "LkLBHi6FhykmC2R0EEa6F7gkzCko2JQ4sDVHMgQIcz/knaEYyiquGw==",
            "dtype": "i4",
            "shape": "10, 1"
           },
           "geo": "geo",
           "hovertemplate": "<b>%{hovertext}</b><br><br>Category=TOOLS<br>Country=%{location}<br>Installs=%{z}<extra></extra>",
           "hovertext": [
            "TOOLS",
            "TOOLS",
            "TOOLS",
            "TOOLS",
            "TOOLS",
            "TOOLS",
            "TOOLS",
            "TOOLS",
            "TOOLS",
            "TOOLS"
           ],
           "locations": [
            "BR",
            "CN",
            "DE",
            "FR",
            "GB",
            "IN",
            "JP",
            "MX",
            "RU",
            "US"
           ],
           "marker": {
            "line": {
             "color": [
              "gold",
              "gold",
              "gold",
              "gold",
              "gold",
              "gold",
              "gold",
              "gold",
              "gold",
              "gold"
             ],
             "width": 2
            }
           },
           "name": "",
           "type": "choropleth",
           "z": {
            "bdata": "LkLBHi6FhykmC2R0EEa6F7gkzCko2JQ4sDVHMgQIcz/knaEYyiquGw==",
            "dtype": "i4"
           }
          }
         ],
         "name": "TOOLS"
        },
        {
         "data": [
          {
           "coloraxis": "coloraxis",
           "customdata": {
            "bdata": "mOZgByR6F0U891IpIAO2AyBy3AToEZEGaD+SB7A2ygi4SuwLoIvWSA==",
            "dtype": "i4",
            "shape": "10, 1"
           },
           "geo": "geo",
           "hovertemplate": "<b>%{hovertext}</b><br><br>Category=VIDEO_PLAYERS<br>Country=%{location}<br>Installs=%{z}<extra></extra>",
           "hovertext": [
            "VIDEO_PLAYERS",
            "VIDEO_PLAYERS",
            "VIDEO_PLAYERS",
            "VIDEO_PLAYERS",
            "VIDEO_PLAYERS",
            "VIDEO_PLAYERS",
            "VIDEO_PLAYERS",
            "VIDEO_PLAYERS",
            "VIDEO_PLAYERS",
            "VIDEO_PLAYERS"
           ],
           "locations": [
            "BR",
            "CN",
            "DE",
            "FR",
            "GB",
            "IN",
            "JP",
            "MX",
            "RU",
            "US"
           ],
           "marker": {
            "line": {
             "color": [
              "gold",
              "gold",
              "gold",
              "gold",
              "gold",
              "gold",
              "gold",
              "gold",
              "gold",
              "gold"
             ],
             "width": 2
            }
           },
           "name": "",
           "type": "choropleth",
           "z": {
            "bdata": "mOZgByR6F0U891IpIAO2AyBy3AToEZEGaD+SB7A2ygi4SuwLoIvWSA==",
            "dtype": "i4"
           }
          }
         ],
         "name": "VIDEO_PLAYERS"
        }
       ],
       "layout": {
        "coloraxis": {
         "colorbar": {
          "title": {
           "text": "Installs"
          }
         },
         "colorscale": [
          [
           0,
           "#0d0887"
          ],
          [
           0.1111111111111111,
           "#46039f"
          ],
          [
           0.2222222222222222,
           "#7201a8"
          ],
          [
           0.3333333333333333,
           "#9c179e"
          ],
          [
           0.4444444444444444,
           "#bd3786"
          ],
          [
           0.5555555555555556,
           "#d8576b"
          ],
          [
           0.6666666666666666,
           "#ed7953"
          ],
          [
           0.7777777777777778,
           "#fb9f3a"
          ],
          [
           0.8888888888888888,
           "#fdca26"
          ],
          [
           1,
           "#f0f921"
          ]
         ]
        },
        "geo": {
         "center": {},
         "domain": {
          "x": [
           0,
           1
          ],
          "y": [
           0,
           1
          ]
         },
         "scope": "world",
         "showcoastlines": true,
         "showframe": false
        },
        "height": 600,
        "legend": {
         "tracegroupgap": 0
        },
        "margin": {
         "b": 0,
         "l": 0,
         "r": 0,
         "t": 50
        },
        "sliders": [
         {
          "active": 0,
          "currentvalue": {
           "prefix": "Category="
          },
          "len": 0.9,
          "pad": {
           "b": 10,
           "t": 60
          },
          "steps": [
           {
            "args": [
             [
              "FAMILY"
             ],
             {
              "frame": {
               "duration": 0,
               "redraw": true
              },
              "fromcurrent": true,
              "mode": "immediate",
              "transition": {
               "duration": 0,
               "easing": "linear"
              }
             }
            ],
            "label": "FAMILY",
            "method": "animate"
           },
           {
            "args": [
             [
              "PHOTOGRAPHY"
             ],
             {
              "frame": {
               "duration": 0,
               "redraw": true
              },
              "fromcurrent": true,
              "mode": "immediate",
              "transition": {
               "duration": 0,
               "easing": "linear"
              }
             }
            ],
            "label": "PHOTOGRAPHY",
            "method": "animate"
           },
           {
            "args": [
             [
              "PRODUCTIVITY"
             ],
             {
              "frame": {
               "duration": 0,
               "redraw": true
              },
              "fromcurrent": true,
              "mode": "immediate",
              "transition": {
               "duration": 0,
               "easing": "linear"
              }
             }
            ],
            "label": "PRODUCTIVITY",
            "method": "animate"
           },
           {
            "args": [
             [
              "TOOLS"
             ],
             {
              "frame": {
               "duration": 0,
               "redraw": true
              },
              "fromcurrent": true,
              "mode": "immediate",
              "transition": {
               "duration": 0,
               "easing": "linear"
              }
             }
            ],
            "label": "TOOLS",
            "method": "animate"
           },
           {
            "args": [
             [
              "VIDEO_PLAYERS"
             ],
             {
              "frame": {
               "duration": 0,
               "redraw": true
              },
              "fromcurrent": true,
              "mode": "immediate",
              "transition": {
               "duration": 0,
               "easing": "linear"
              }
             }
            ],
            "label": "VIDEO_PLAYERS",
            "method": "animate"
           }
          ],
          "x": 0.1,
          "xanchor": "left",
          "y": 0,
          "yanchor": "top"
         }
        ],
        "template": {
         "data": {
          "bar": [
           {
            "error_x": {
             "color": "#2a3f5f"
            },
            "error_y": {
             "color": "#2a3f5f"
            },
            "marker": {
             "line": {
              "color": "#E5ECF6",
              "width": 0.5
             },
             "pattern": {
              "fillmode": "overlay",
              "size": 10,
              "solidity": 0.2
             }
            },
            "type": "bar"
           }
          ],
          "barpolar": [
           {
            "marker": {
             "line": {
              "color": "#E5ECF6",
              "width": 0.5
             },
             "pattern": {
              "fillmode": "overlay",
              "size": 10,
              "solidity": 0.2
             }
            },
            "type": "barpolar"
           }
          ],
          "carpet": [
           {
            "aaxis": {
             "endlinecolor": "#2a3f5f",
             "gridcolor": "white",
             "linecolor": "white",
             "minorgridcolor": "white",
             "startlinecolor": "#2a3f5f"
            },
            "baxis": {
             "endlinecolor": "#2a3f5f",
             "gridcolor": "white",
             "linecolor": "white",
             "minorgridcolor": "white",
             "startlinecolor": "#2a3f5f"
            },
            "type": "carpet"
           }
          ],
          "choropleth": [
           {
            "colorbar": {
             "outlinewidth": 0,
             "ticks": ""
            },
            "type": "choropleth"
           }
          ],
          "contour": [
           {
            "colorbar": {
             "outlinewidth": 0,
             "ticks": ""
            },
            "colorscale": [
             [
              0,
              "#0d0887"
             ],
             [
              0.1111111111111111,
              "#46039f"
             ],
             [
              0.2222222222222222,
              "#7201a8"
             ],
             [
              0.3333333333333333,
              "#9c179e"
             ],
             [
              0.4444444444444444,
              "#bd3786"
             ],
             [
              0.5555555555555556,
              "#d8576b"
             ],
             [
              0.6666666666666666,
              "#ed7953"
             ],
             [
              0.7777777777777778,
              "#fb9f3a"
             ],
             [
              0.8888888888888888,
              "#fdca26"
             ],
             [
              1,
              "#f0f921"
             ]
            ],
            "type": "contour"
           }
          ],
          "contourcarpet": [
           {
            "colorbar": {
             "outlinewidth": 0,
             "ticks": ""
            },
            "type": "contourcarpet"
           }
          ],
          "heatmap": [
           {
            "colorbar": {
             "outlinewidth": 0,
             "ticks": ""
            },
            "colorscale": [
             [
              0,
              "#0d0887"
             ],
             [
              0.1111111111111111,
              "#46039f"
             ],
             [
              0.2222222222222222,
              "#7201a8"
             ],
             [
              0.3333333333333333,
              "#9c179e"
             ],
             [
              0.4444444444444444,
              "#bd3786"
             ],
             [
              0.5555555555555556,
              "#d8576b"
             ],
             [
              0.6666666666666666,
              "#ed7953"
             ],
             [
              0.7777777777777778,
              "#fb9f3a"
             ],
             [
              0.8888888888888888,
              "#fdca26"
             ],
             [
              1,
              "#f0f921"
             ]
            ],
            "type": "heatmap"
           }
          ],
          "histogram": [
           {
            "marker": {
             "pattern": {
              "fillmode": "overlay",
              "size": 10,
              "solidity": 0.2
             }
            },
            "type": "histogram"
           }
          ],
          "histogram2d": [
           {
            "colorbar": {
             "outlinewidth": 0,
             "ticks": ""
            },
            "colorscale": [
             [
              0,
              "#0d0887"
             ],
             [
              0.1111111111111111,
              "#46039f"
             ],
             [
              0.2222222222222222,
              "#7201a8"
             ],
             [
              0.3333333333333333,
              "#9c179e"
             ],
             [
              0.4444444444444444,
              "#bd3786"
             ],
             [
              0.5555555555555556,
              "#d8576b"
             ],
             [
              0.6666666666666666,
              "#ed7953"
             ],
             [
              0.7777777777777778,
              "#fb9f3a"
             ],
             [
              0.8888888888888888,
              "#fdca26"
             ],
             [
              1,
              "#f0f921"
             ]
            ],
            "type": "histogram2d"
           }
          ],
          "histogram2dcontour": [
           {
            "colorbar": {
             "outlinewidth": 0,
             "ticks": ""
            },
            "colorscale": [
             [
              0,
              "#0d0887"
             ],
             [
              0.1111111111111111,
              "#46039f"
             ],
             [
              0.2222222222222222,
              "#7201a8"
             ],
             [
              0.3333333333333333,
              "#9c179e"
             ],
             [
              0.4444444444444444,
              "#bd3786"
             ],
             [
              0.5555555555555556,
              "#d8576b"
             ],
             [
              0.6666666666666666,
              "#ed7953"
             ],
             [
              0.7777777777777778,
              "#fb9f3a"
             ],
             [
              0.8888888888888888,
              "#fdca26"
             ],
             [
              1,
              "#f0f921"
             ]
            ],
            "type": "histogram2dcontour"
           }
          ],
          "mesh3d": [
           {
            "colorbar": {
             "outlinewidth": 0,
             "ticks": ""
            },
            "type": "mesh3d"
           }
          ],
          "parcoords": [
           {
            "line": {
             "colorbar": {
              "outlinewidth": 0,
              "ticks": ""
             }
            },
            "type": "parcoords"
           }
          ],
          "pie": [
           {
            "automargin": true,
            "type": "pie"
           }
          ],
          "scatter": [
           {
            "fillpattern": {
             "fillmode": "overlay",
             "size": 10,
             "solidity": 0.2
            },
            "type": "scatter"
           }
          ],
          "scatter3d": [
           {
            "line": {
             "colorbar": {
              "outlinewidth": 0,
              "ticks": ""
             }
            },
            "marker": {
             "colorbar": {
              "outlinewidth": 0,
              "ticks": ""
             }
            },
            "type": "scatter3d"
           }
          ],
          "scattercarpet": [
           {
            "marker": {
             "colorbar": {
              "outlinewidth": 0,
              "ticks": ""
             }
            },
            "type": "scattercarpet"
           }
          ],
          "scattergeo": [
           {
            "marker": {
             "colorbar": {
              "outlinewidth": 0,
              "ticks": ""
             }
            },
            "type": "scattergeo"
           }
          ],
          "scattergl": [
           {
            "marker": {
             "colorbar": {
              "outlinewidth": 0,
              "ticks": ""
             }
            },
            "type": "scattergl"
           }
          ],
          "scattermap": [
           {
            "marker": {
             "colorbar": {
              "outlinewidth": 0,
              "ticks": ""
             }
            },
            "type": "scattermap"
           }
          ],
          "scattermapbox": [
           {
            "marker": {
             "colorbar": {
              "outlinewidth": 0,
              "ticks": ""
             }
            },
            "type": "scattermapbox"
           }
          ],
          "scatterpolar": [
           {
            "marker": {
             "colorbar": {
              "outlinewidth": 0,
              "ticks": ""
             }
            },
            "type": "scatterpolar"
           }
          ],
          "scatterpolargl": [
           {
            "marker": {
             "colorbar": {
              "outlinewidth": 0,
              "ticks": ""
             }
            },
            "type": "scatterpolargl"
           }
          ],
          "scatterternary": [
           {
            "marker": {
             "colorbar": {
              "outlinewidth": 0,
              "ticks": ""
             }
            },
            "type": "scatterternary"
           }
          ],
          "surface": [
           {
            "colorbar": {
             "outlinewidth": 0,
             "ticks": ""
            },
            "colorscale": [
             [
              0,
              "#0d0887"
             ],
             [
              0.1111111111111111,
              "#46039f"
             ],
             [
              0.2222222222222222,
              "#7201a8"
             ],
             [
              0.3333333333333333,
              "#9c179e"
             ],
             [
              0.4444444444444444,
              "#bd3786"
             ],
             [
              0.5555555555555556,
              "#d8576b"
             ],
             [
              0.6666666666666666,
              "#ed7953"
             ],
             [
              0.7777777777777778,
              "#fb9f3a"
             ],
             [
              0.8888888888888888,
              "#fdca26"
             ],
             [
              1,
              "#f0f921"
             ]
            ],
            "type": "surface"
           }
          ],
          "table": [
           {
            "cells": {
             "fill": {
              "color": "#EBF0F8"
             },
             "line": {
              "color": "white"
             }
            },
            "header": {
             "fill": {
              "color": "#C8D4E3"
             },
             "line": {
              "color": "white"
             }
            },
            "type": "table"
           }
          ]
         },
         "layout": {
          "annotationdefaults": {
           "arrowcolor": "#2a3f5f",
           "arrowhead": 0,
           "arrowwidth": 1
          },
          "autotypenumbers": "strict",
          "coloraxis": {
           "colorbar": {
            "outlinewidth": 0,
            "ticks": ""
           }
          },
          "colorscale": {
           "diverging": [
            [
             0,
             "#8e0152"
            ],
            [
             0.1,
             "#c51b7d"
            ],
            [
             0.2,
             "#de77ae"
            ],
            [
             0.3,
             "#f1b6da"
            ],
            [
             0.4,
             "#fde0ef"
            ],
            [
             0.5,
             "#f7f7f7"
            ],
            [
             0.6,
             "#e6f5d0"
            ],
            [
             0.7,
             "#b8e186"
            ],
            [
             0.8,
             "#7fbc41"
            ],
            [
             0.9,
             "#4d9221"
            ],
            [
             1,
             "#276419"
            ]
           ],
           "sequential": [
            [
             0,
             "#0d0887"
            ],
            [
             0.1111111111111111,
             "#46039f"
            ],
            [
             0.2222222222222222,
             "#7201a8"
            ],
            [
             0.3333333333333333,
             "#9c179e"
            ],
            [
             0.4444444444444444,
             "#bd3786"
            ],
            [
             0.5555555555555556,
             "#d8576b"
            ],
            [
             0.6666666666666666,
             "#ed7953"
            ],
            [
             0.7777777777777778,
             "#fb9f3a"
            ],
            [
             0.8888888888888888,
             "#fdca26"
            ],
            [
             1,
             "#f0f921"
            ]
           ],
           "sequentialminus": [
            [
             0,
             "#0d0887"
            ],
            [
             0.1111111111111111,
             "#46039f"
            ],
            [
             0.2222222222222222,
             "#7201a8"
            ],
            [
             0.3333333333333333,
             "#9c179e"
            ],
            [
             0.4444444444444444,
             "#bd3786"
            ],
            [
             0.5555555555555556,
             "#d8576b"
            ],
            [
             0.6666666666666666,
             "#ed7953"
            ],
            [
             0.7777777777777778,
             "#fb9f3a"
            ],
            [
             0.8888888888888888,
             "#fdca26"
            ],
            [
             1,
             "#f0f921"
            ]
           ]
          },
          "colorway": [
           "#636efa",
           "#EF553B",
           "#00cc96",
           "#ab63fa",
           "#FFA15A",
           "#19d3f3",
           "#FF6692",
           "#B6E880",
           "#FF97FF",
           "#FECB52"
          ],
          "font": {
           "color": "#2a3f5f"
          },
          "geo": {
           "bgcolor": "white",
           "lakecolor": "white",
           "landcolor": "#E5ECF6",
           "showlakes": true,
           "showland": true,
           "subunitcolor": "white"
          },
          "hoverlabel": {
           "align": "left"
          },
          "hovermode": "closest",
          "mapbox": {
           "style": "light"
          },
          "paper_bgcolor": "white",
          "plot_bgcolor": "#E5ECF6",
          "polar": {
           "angularaxis": {
            "gridcolor": "white",
            "linecolor": "white",
            "ticks": ""
           },
           "bgcolor": "#E5ECF6",
           "radialaxis": {
            "gridcolor": "white",
            "linecolor": "white",
            "ticks": ""
           }
          },
          "scene": {
           "xaxis": {
            "backgroundcolor": "#E5ECF6",
            "gridcolor": "white",
            "gridwidth": 2,
            "linecolor": "white",
            "showbackground": true,
            "ticks": "",
            "zerolinecolor": "white"
           },
           "yaxis": {
            "backgroundcolor": "#E5ECF6",
            "gridcolor": "white",
            "gridwidth": 2,
            "linecolor": "white",
            "showbackground": true,
            "ticks": "",
            "zerolinecolor": "white"
           },
           "zaxis": {
            "backgroundcolor": "#E5ECF6",
            "gridcolor": "white",
            "gridwidth": 2,
            "linecolor": "white",
            "showbackground": true,
            "ticks": "",
            "zerolinecolor": "white"
           }
          },
          "shapedefaults": {
           "line": {
            "color": "#2a3f5f"
           }
          },
          "ternary": {
           "aaxis": {
            "gridcolor": "white",
            "linecolor": "white",
            "ticks": ""
           },
           "baxis": {
            "gridcolor": "white",
            "linecolor": "white",
            "ticks": ""
           },
           "bgcolor": "#E5ECF6",
           "caxis": {
            "gridcolor": "white",
            "linecolor": "white",
            "ticks": ""
           }
          },
          "title": {
           "x": 0.05
          },
          "xaxis": {
           "automargin": true,
           "gridcolor": "white",
           "linecolor": "white",
           "ticks": "",
           "title": {
            "standoff": 15
           },
           "zerolinecolor": "white",
           "zerolinewidth": 2
          },
          "yaxis": {
           "automargin": true,
           "gridcolor": "white",
           "linecolor": "white",
           "ticks": "",
           "title": {
            "standoff": 15
           },
           "zerolinecolor": "white",
           "zerolinewidth": 2
          }
         }
        },
        "title": {
         "text": "Global Installs by Top 5 Categories (Excluding A/C/G/S starters)"
        },
        "updatemenus": [
         {
          "buttons": [
           {
            "args": [
             null,
             {
              "frame": {
               "duration": 500,
               "redraw": true
              },
              "fromcurrent": true,
              "mode": "immediate",
              "transition": {
               "duration": 500,
               "easing": "linear"
              }
             }
            ],
            "label": "&#9654;",
            "method": "animate"
           },
           {
            "args": [
             [
              null
             ],
             {
              "frame": {
               "duration": 0,
               "redraw": true
              },
              "fromcurrent": true,
              "mode": "immediate",
              "transition": {
               "duration": 0,
               "easing": "linear"
              }
             }
            ],
            "label": "&#9724;",
            "method": "animate"
           }
          ],
          "direction": "left",
          "pad": {
           "r": 10,
           "t": 70
          },
          "showactive": false,
          "type": "buttons",
          "x": 0.1,
          "xanchor": "right",
          "y": 0,
          "yanchor": "top"
         }
        ]
       }
      },
      "image/png": "[encoded data removed]"
     },
     "metadata": {},
     "output_type": "display_data"
    }
   ],
   "source": [
    "# 5. Display conditionally\n",
    "'''if is_display_time():\n",
    "    fig = create_map()\n",
    "    if fig:\n",
    "        fig.show()\n",
    "else:\n",
    "    print(\"Visualization only available between 6-8 PM IST\")'''"
   ]
  },
  {
   "cell_type": "code",
   "execution_count": null,
   "id": "30b19bdd-3b6f-48ee-93cc-74ce092e0226",
   "metadata": {},
   "outputs": [],
   "source": []
  }
 ],
 "metadata": {
  "kernelspec": {
   "display_name": "Python 3 (ipykernel)",
   "language": "python",
   "name": "python3"
  },
  "language_info": {
   "codemirror_mode": {
    "name": "ipython",
    "version": 3
   },
   "file_extension": ".py",
   "mimetype": "text/x-python",
   "name": "python",
   "nbconvert_exporter": "python",
   "pygments_lexer": "ipython3",
   "version": "3.13.4"
  }
 },
 "nbformat": 4,
 "nbformat_minor": 5
}
