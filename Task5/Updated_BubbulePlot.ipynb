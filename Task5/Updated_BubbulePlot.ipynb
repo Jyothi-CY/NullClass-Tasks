{
 "cells": [
  {
   "cell_type": "code",
   "execution_count": 42,
   "id": "e264deb6-6514-49fb-976c-f72ba34778ca",
   "metadata": {},
   "outputs": [],
   "source": [
    "import pandas as pd\n",
    "import matplotlib.pyplot as plt\n",
    "from datetime import datetime\n",
    "import pytz"
   ]
  },
  {
   "cell_type": "code",
   "execution_count": 43,
   "id": "79df3721-c0c1-4d51-86b9-7a29c1f4168b",
   "metadata": {},
   "outputs": [],
   "source": [
    "apps_df = pd.read_csv(\"E:/Data Analyst Intern Tasks/Jupyter/Cleaned Datasets/Cleaned_GooglePlaystore.csv\")\n",
    "reviews_df = pd.read_csv(\"E:/Data Analyst Intern Tasks/Jupyter/Cleaned Datasets/Cleaned_UserReviews.csv\")"
   ]
  },
  {
   "cell_type": "code",
   "execution_count": 44,
   "id": "0a33ede6-c91b-4bb9-bda8-75b13aa969a1",
   "metadata": {},
   "outputs": [],
   "source": [
    "# Check current time and only proceed if between 5 PM to 7 PM IST\n",
    "ist = pytz.timezone('Asia/Kolkata')\n",
    "current_time = datetime.now(ist).time()\n",
    "start_time = datetime.strptime('17:00:00', '%H:%M:%S').time()\n",
    "end_time = datetime.strptime('19:00:00', '%H:%M:%S').time()"
   ]
  },
  {
   "cell_type": "code",
   "execution_count": 45,
   "id": "569e891e-c0dc-44c0-a03a-ed8006677096",
   "metadata": {},
   "outputs": [
    {
     "name": "stdout",
     "output_type": "stream",
     "text": [
      "The bubble chart is only available between 5 PM to 7 PM IST.\n"
     ]
    }
   ],
   "source": [
    "if current_time >= start_time and current_time <= end_time:\n",
    "    # Merge datasets\n",
    "    merged_df = pd.merge(apps_df, reviews_df, on='App', how='inner')\n",
    "    \n",
    "    # Debug: Print shape before filtering\n",
    "    print(f\"Initial merged data shape: {merged_df.shape}\")\n",
    "    \n",
    "    # Apply all filters\n",
    "    filtered_df = merged_df[\n",
    "        (merged_df['Rating'] > 3.5) &\n",
    "        (merged_df['Category'].isin(['Game', 'Beauty', 'Business', 'Comics', \n",
    "                                   'Communication', 'Dating', 'Entertainment', \n",
    "                                   'Social', 'Event'])) &\n",
    "        (merged_df['Reviews'] > 500) &\n",
    "        (~merged_df['App'].str.contains('S', case=False)) &\n",
    "        (merged_df['Sentiment_Subjectivity'] > 0.5) &\n",
    "        (merged_df['Installs'] > 50000)\n",
    "    ].copy()\n",
    "    \n",
    "    # Debug: Print shape after filtering\n",
    "    print(f\"Filtered data shape: {filtered_df.shape}\")\n",
    "    \n",
    "    if len(filtered_df) == 0:\n",
    "        print(\"No apps match all the filtering criteria. Please relax some filters.\")\n",
    "    else:\n",
    "        # Group by App to get average values\n",
    "        grouped_df = filtered_df.groupby(['App', 'Category', 'Size']).agg({\n",
    "            'Rating': 'mean',\n",
    "            'Installs': 'mean',\n",
    "            'Reviews': 'mean'\n",
    "        }).reset_index()\n",
    "        \n",
    "        # Translate category names\n",
    "        def translate_category(category):\n",
    "            if category == 'Beauty':\n",
    "                return 'सुंदरता'  # Hindi for Beauty\n",
    "            elif category == 'Business':\n",
    "                return 'வணிகம்'  # Tamil for Business\n",
    "            elif category == 'Dating':\n",
    "                return 'Dating'  # German for Dating is same as English\n",
    "            else:\n",
    "                return category\n",
    "        \n",
    "        grouped_df['Translated_Category'] = grouped_df['Category'].apply(translate_category)\n",
    "        \n",
    "        # Create the bubble chart\n",
    "        plt.figure(figsize=(14, 8))\n",
    "        artists = []  # To store our plot artists for the legend\n",
    "        \n",
    "        # Plot all categories except Game first\n",
    "        for category in grouped_df[grouped_df['Category'] != 'Game']['Translated_Category'].unique():\n",
    "            category_data = grouped_df[grouped_df['Translated_Category'] == category]\n",
    "            if len(category_data) > 0:\n",
    "                scatter = plt.scatter(\n",
    "                    x=category_data['Size'], \n",
    "                    y=category_data['Rating'],\n",
    "                    s=category_data['Installs']/10000,\n",
    "                    alpha=0.6,\n",
    "                    label=category\n",
    "                )\n",
    "                artists.append(scatter)\n",
    "        \n",
    "        # Plot Game category in pink\n",
    "        game_data = grouped_df[grouped_df['Category'] == 'Game']\n",
    "        if not game_data.empty:\n",
    "            game_scatter = plt.scatter(\n",
    "                x=game_data['Size'], \n",
    "                y=game_data['Rating'],\n",
    "                s=game_data['Installs']/10000,\n",
    "                alpha=0.6,\n",
    "                color='pink',\n",
    "                label='Game'\n",
    "            )\n",
    "            artists.append(game_scatter)\n",
    "        \n",
    "        # Only add legend if we have artists\n",
    "        if artists:\n",
    "            plt.legend(handles=artists, title='Categories', bbox_to_anchor=(1.05, 1), loc='upper left')\n",
    "        \n",
    "        # Add chart elements\n",
    "        plt.title('App Size vs Rating (Bubble Size = Installs)', fontsize=16)\n",
    "        plt.xlabel('App Size (MB)', fontsize=12)\n",
    "        plt.ylabel('Average Rating', fontsize=12)\n",
    "        plt.grid(True, linestyle='--', alpha=0.7)\n",
    "        \n",
    "        # Adjust layout\n",
    "        plt.tight_layout()\n",
    "        \n",
    "        # Show the plot\n",
    "        plt.show()\n",
    "        \n",
    "else:\n",
    "    print(\"The bubble chart is only available between 5 PM to 7 PM IST.\")"
   ]
  },
  {
   "cell_type": "code",
   "execution_count": 46,
   "id": "3a261f59-99f4-4b1b-8dee-3080d2e98fec",
   "metadata": {},
   "outputs": [
    {
     "name": "stdout",
     "output_type": "stream",
     "text": [
      "Requirement already satisfied: dash in e:\\data analyst intern tasks\\jupyter\\venv\\lib\\site-packages (3.1.1)\n",
      "Requirement already satisfied: Flask<3.2,>=1.0.4 in e:\\data analyst intern tasks\\jupyter\\venv\\lib\\site-packages (from dash) (3.1.1)\n",
      "Requirement already satisfied: Werkzeug<3.2 in e:\\data analyst intern tasks\\jupyter\\venv\\lib\\site-packages (from dash) (3.1.3)\n",
      "Requirement already satisfied: plotly>=5.0.0 in e:\\data analyst intern tasks\\jupyter\\venv\\lib\\site-packages (from dash) (6.1.1)\n",
      "Requirement already satisfied: importlib-metadata in e:\\data analyst intern tasks\\jupyter\\venv\\lib\\site-packages (from dash) (8.7.0)\n",
      "Requirement already satisfied: typing-extensions>=4.1.1 in e:\\data analyst intern tasks\\jupyter\\venv\\lib\\site-packages (from dash) (4.13.2)\n",
      "Requirement already satisfied: requests in e:\\data analyst intern tasks\\jupyter\\venv\\lib\\site-packages (from dash) (2.32.3)\n",
      "Requirement already satisfied: retrying in e:\\data analyst intern tasks\\jupyter\\venv\\lib\\site-packages (from dash) (1.4.1)\n",
      "Requirement already satisfied: nest-asyncio in e:\\data analyst intern tasks\\jupyter\\venv\\lib\\site-packages (from dash) (1.6.0)\n",
      "Requirement already satisfied: setuptools in e:\\data analyst intern tasks\\jupyter\\venv\\lib\\site-packages (from dash) (80.9.0)\n",
      "Requirement already satisfied: blinker>=1.9.0 in e:\\data analyst intern tasks\\jupyter\\venv\\lib\\site-packages (from Flask<3.2,>=1.0.4->dash) (1.9.0)\n",
      "Requirement already satisfied: click>=8.1.3 in e:\\data analyst intern tasks\\jupyter\\venv\\lib\\site-packages (from Flask<3.2,>=1.0.4->dash) (8.2.1)\n",
      "Requirement already satisfied: itsdangerous>=2.2.0 in e:\\data analyst intern tasks\\jupyter\\venv\\lib\\site-packages (from Flask<3.2,>=1.0.4->dash) (2.2.0)\n",
      "Requirement already satisfied: jinja2>=3.1.2 in e:\\data analyst intern tasks\\jupyter\\venv\\lib\\site-packages (from Flask<3.2,>=1.0.4->dash) (3.1.6)\n",
      "Requirement already satisfied: markupsafe>=2.1.1 in e:\\data analyst intern tasks\\jupyter\\venv\\lib\\site-packages (from Flask<3.2,>=1.0.4->dash) (3.0.2)\n",
      "Requirement already satisfied: colorama in e:\\data analyst intern tasks\\jupyter\\venv\\lib\\site-packages (from click>=8.1.3->Flask<3.2,>=1.0.4->dash) (0.4.6)\n",
      "Requirement already satisfied: narwhals>=1.15.1 in e:\\data analyst intern tasks\\jupyter\\venv\\lib\\site-packages (from plotly>=5.0.0->dash) (1.41.0)\n",
      "Requirement already satisfied: packaging in e:\\data analyst intern tasks\\jupyter\\venv\\lib\\site-packages (from plotly>=5.0.0->dash) (25.0)\n",
      "Requirement already satisfied: zipp>=3.20 in e:\\data analyst intern tasks\\jupyter\\venv\\lib\\site-packages (from importlib-metadata->dash) (3.23.0)\n",
      "Requirement already satisfied: charset-normalizer<4,>=2 in e:\\data analyst intern tasks\\jupyter\\venv\\lib\\site-packages (from requests->dash) (3.4.2)\n",
      "Requirement already satisfied: idna<4,>=2.5 in e:\\data analyst intern tasks\\jupyter\\venv\\lib\\site-packages (from requests->dash) (3.10)\n",
      "Requirement already satisfied: urllib3<3,>=1.21.1 in e:\\data analyst intern tasks\\jupyter\\venv\\lib\\site-packages (from requests->dash) (2.4.0)\n",
      "Requirement already satisfied: certifi>=2017.4.17 in e:\\data analyst intern tasks\\jupyter\\venv\\lib\\site-packages (from requests->dash) (2025.4.26)\n"
     ]
    }
   ],
   "source": [
    "!pip install dash"
   ]
  },
  {
   "cell_type": "code",
   "execution_count": 47,
   "id": "9026c217-1e78-4347-8f29-853d7f1dc3b7",
   "metadata": {},
   "outputs": [],
   "source": [
    "import plotly.express as px\n",
    "import dash\n",
    "from dash import dcc, html"
   ]
  },
  {
   "cell_type": "code",
   "execution_count": 48,
   "id": "98116f9c-93c5-4880-a2f0-69dd7eab98d6",
   "metadata": {},
   "outputs": [],
   "source": [
    "apps_df = pd.read_csv(\"E:/Data Analyst Intern Tasks/Jupyter/Cleaned Datasets/Cleaned_GooglePlaystore.csv\")\n",
    "reviews_df = pd.read_csv(\"E:/Data Analyst Intern Tasks/Jupyter/Cleaned Datasets/Cleaned_UserReviews.csv\")"
   ]
  },
  {
   "cell_type": "code",
   "execution_count": 49,
   "id": "b854cd50-e5f3-4e23-896a-25c6c380ea5f",
   "metadata": {},
   "outputs": [],
   "source": [
    "merged_df = pd.merge(apps_df, reviews_df, on='App')"
   ]
  },
  {
   "cell_type": "code",
   "execution_count": 50,
   "id": "abb2236f-f155-4b04-b9aa-1d0db5b01074",
   "metadata": {},
   "outputs": [],
   "source": [
    "categories = ['Game', 'Beauty', 'Business', 'Comics', 'Communication', 'Dating', 'Entertainment', 'Social', 'Events']"
   ]
  },
  {
   "cell_type": "code",
   "execution_count": null,
   "id": "3003cbdd-46b8-4325-88da-8e9c31d5d589",
   "metadata": {},
   "outputs": [],
   "source": [
    "filtered_df = merged_df[\n",
    "    (merged_df['Rating'] > 3.5) &\n",
    "    (merged_df['Category'].isin(categories)) &\n",
    "    (merged_df['Reviews'] > 500) &\n",
    "    (~merged_df['App'].str.contains('s', case=False)) &\n",
    "    (merged_df['Sentiment_Subjectivity'] > 0.5) &\n",
    "    (merged_df['Installs'] > 50000)\n",
    "].copy()"
   ]
  },
  {
   "cell_type": "code",
   "execution_count": 52,
   "id": "0b267e3f-89a1-49b4-835d-c8da45efb483",
   "metadata": {},
   "outputs": [],
   "source": [
    "# Translate category names\n",
    "translation_map = {\n",
    "    'Beauty': 'सौंदर्य',           \n",
    "    'Business': 'வணிகம்',    \n",
    "    'Dating': 'Partnersuche'    \n",
    "}"
   ]
  },
  {
   "cell_type": "code",
   "execution_count": 53,
   "id": "9d4b189d-6a9b-40ec-bf29-f70e18acd0c6",
   "metadata": {},
   "outputs": [],
   "source": [
    "filtered_df['Category_Display'] = filtered_df['Category'].replace(translation_map)"
   ]
  },
  {
   "cell_type": "code",
   "execution_count": 54,
   "id": "53b6dc0c-1328-496c-acb4-5f332c564170",
   "metadata": {},
   "outputs": [],
   "source": [
    "# Assign bubble color\n",
    "filtered_df['Color'] = filtered_df['Category'].apply(lambda x: 'pink' if x == 'Game' else 'blue')"
   ]
  },
  {
   "cell_type": "code",
   "execution_count": 56,
   "id": "d6fc44c1-87bd-49a8-8eff-392d3f8bb33c",
   "metadata": {},
   "outputs": [],
   "source": [
    "# Create the Plotly chart\n",
    "def create_bubble_chart():\n",
    "    fig = px.scatter(\n",
    "        filtered_df,\n",
    "        x='Size_MB',\n",
    "        y='Rating',\n",
    "        size='Installs',\n",
    "        color='Category_Display',\n",
    "        hover_name='App',\n",
    "        size_max=60,\n",
    "        color_discrete_map={k: 'pink' if k == 'Game' else 'blue' for k in filtered_df['Category_Display'].unique()}\n",
    "    )\n",
    "    fig.update_layout(title=\"App Size vs Rating (Bubble Size = Installs)\")\n",
    "    return fig"
   ]
  },
  {
   "cell_type": "code",
   "execution_count": 57,
   "id": "a179dfff-8af7-4eed-bc78-2095650f07dd",
   "metadata": {},
   "outputs": [],
   "source": [
    "# Check if current IST time is between 5 PM and 7 PM\n",
    "def is_within_time_window():\n",
    "    ist = pytz.timezone('Asia/Kolkata')\n",
    "    now_ist = datetime.now(ist).time()\n",
    "    return now_ist >= datetime.strptime('17:00', '%H:%M').time() and now_ist <= datetime.strptime('19:00', '%H:%M').time()"
   ]
  },
  {
   "cell_type": "code",
   "execution_count": 58,
   "id": "c8c63c39-9b40-427c-9718-72778f920afa",
   "metadata": {},
   "outputs": [],
   "source": [
    "# Dash App\n",
    "app = dash.Dash(__name__)\n",
    "\n",
    "app.layout = html.Div([\n",
    "    html.H2(\"Google Play Store App Analysis\"),\n",
    "    dcc.Graph(figure=create_bubble_chart()) if is_within_time_window() else html.H4(\"This chart is only available between 5 PM and 7 PM IST.\")\n",
    "])"
   ]
  },
  {
   "cell_type": "code",
   "execution_count": 59,
   "id": "bd783000-f6f1-4a6a-80df-d30fecf6ba22",
   "metadata": {},
   "outputs": [
    {
     "data": {
      "text/html": [
       "\n",
       "        <iframe\n",
       "            width=\"100%\"\n",
       "            height=\"650\"\n",
       "            src=\"http://127.0.0.1:8050/\"\n",
       "            frameborder=\"0\"\n",
       "            allowfullscreen\n",
       "            \n",
       "        ></iframe>\n",
       "        "
      ],
      "text/plain": [
       "<IPython.lib.display.IFrame at 0x1cec7a415b0>"
      ]
     },
     "metadata": {},
     "output_type": "display_data"
    }
   ],
   "source": [
    "if __name__ == '__main__':\n",
    "    app.run(debug=True)"
   ]
  },
  {
   "cell_type": "code",
   "execution_count": null,
   "id": "71482f34-bb21-4214-b268-460dba6aecd3",
   "metadata": {},
   "outputs": [],
   "source": []
  }
 ],
 "metadata": {
  "kernelspec": {
   "display_name": "Python 3 (ipykernel)",
   "language": "python",
   "name": "python3"
  },
  "language_info": {
   "codemirror_mode": {
    "name": "ipython",
    "version": 3
   },
   "file_extension": ".py",
   "mimetype": "text/x-python",
   "name": "python",
   "nbconvert_exporter": "python",
   "pygments_lexer": "ipython3",
   "version": "3.13.4"
  }
 },
 "nbformat": 4,
 "nbformat_minor": 5
}
