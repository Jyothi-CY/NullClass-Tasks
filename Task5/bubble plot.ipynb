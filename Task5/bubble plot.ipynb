{
 "cells": [
  {
   "cell_type": "code",
   "execution_count": 19,
   "id": "05738d61-f75f-4481-a9ff-5ef78ddb1502",
   "metadata": {},
   "outputs": [],
   "source": [
    "import pandas as pd\n",
    "import numpy as np\n",
    "import matplotlib.pyplot as plt\n",
    "import matplotlib.patches as mpatches\n",
    "from datetime import datetime\n",
    "import pytz\n",
    "import matplotlib.font_manager as fm"
   ]
  },
  {
   "cell_type": "code",
   "execution_count": 20,
   "id": "ab03bf7e-0f10-447c-9067-6c515614050f",
   "metadata": {},
   "outputs": [],
   "source": [
    "apps_df = pd.read_csv(\"E:/Data Analyst Intern Tasks/Jupyter/Cleaned Datasets/Cleaned_GooglePlaystore.csv\")\n",
    "reviews_df = pd.read_csv(\"E:/Data Analyst Intern Tasks/Jupyter/Cleaned Datasets/Cleaned_UserReviews.csv\")"
   ]
  },
  {
   "cell_type": "code",
   "execution_count": 21,
   "id": "aa31e128-8eef-4d0e-b2d6-452cc8897cc9",
   "metadata": {},
   "outputs": [],
   "source": [
    "def clean_size(size_str):\n",
    "    if pd.isna(size_str):\n",
    "        return np.nan\n",
    "    if isinstance(size_str, (int, float)):\n",
    "        return size_str\n",
    "    size_str = str(size_str)\n",
    "    if 'M' in size_str:\n",
    "        return float(size_str.replace('M', ''))\n",
    "    elif 'k' in size_str:\n",
    "        return float(size_str.replace('k', '')) / 1024\n",
    "    elif size_str == 'Varies with device':\n",
    "        return np.nan\n",
    "    else:\n",
    "        try:\n",
    "            return float(size_str)\n",
    "        except:\n",
    "            return np.nan\n"
   ]
  },
  {
   "cell_type": "code",
   "execution_count": 22,
   "id": "51fa5eac-981d-4372-b3ee-ea3007e86e08",
   "metadata": {},
   "outputs": [],
   "source": [
    "apps_df['Size'] = apps_df['Size'].apply(clean_size)\n",
    "apps_df['Reviews'] = pd.to_numeric(apps_df['Reviews'], errors='coerce')"
   ]
  },
  {
   "cell_type": "code",
   "execution_count": 23,
   "id": "60f1746d-b164-4421-b6dc-54188f74785b",
   "metadata": {},
   "outputs": [],
   "source": [
    "merged_data = pd.merge(apps_df, reviews_df, on='App', how='inner')"
   ]
  },
  {
   "cell_type": "code",
   "execution_count": 24,
   "id": "3933eca0-9c4d-456e-9df3-73a829eac8dd",
   "metadata": {},
   "outputs": [],
   "source": [
    "# this graph will be avaialable at the evening between 6-7"
   ]
  },
  {
   "cell_type": "code",
   "execution_count": 25,
   "id": "e3bd900a-dd24-4e66-9e7c-224f894f2d42",
   "metadata": {},
   "outputs": [],
   "source": [
    "def filter_data(df):\n",
    "    # Current time check (IST 5PM to 7PM)\n",
    "    ist = pytz.timezone('Asia/Kolkata')\n",
    "    current_time = datetime.now(ist).time()\n",
    "    start_time = datetime.strptime('17:00:00', '%H:%M:%S').time()\n",
    "    end_time = datetime.strptime('19:00:00', '%H:%M:%S').time()\n",
    "    \n",
    "    if not (start_time <= current_time <= end_time):\n",
    "        return pd.DataFrame()  # Return empty dataframe if not in time window\n",
    "    \n",
    "    filtered = df[\n",
    "        (df['Rating'] > 3.5) &\n",
    "        (df['Category'].isin([\n",
    "            'GAME', 'BEAUTY', 'BUSINESS', 'COMICS', 'COMMUNICATION', \n",
    "            'DATING', 'ENTERTAINMENT', 'SOCIAL', 'EVENTS'\n",
    "        ])) &\n",
    "        (df['Reviews'] > 500) &\n",
    "        (~df['App'].str.contains('s', case=False)) &\n",
    "        (df['Sentiment_Subjectivity'] > 0.5) &\n",
    "        (df['Installs'] > 50000)\n",
    "    ].copy()\n",
    "    \n",
    "    return filtered\n",
    "\n",
    "filtered_data = filter_data(merged_data)"
   ]
  },
  {
   "cell_type": "code",
   "execution_count": 26,
   "id": "27f897c8-3a5d-4655-a903-3aba24035829",
   "metadata": {},
   "outputs": [
    {
     "name": "stdout",
     "output_type": "stream",
     "text": [
      "⏰ Current time is 20:03:20 IST. The chart is visible only between 17:00 and 19:00 IST.\n",
      "Or no data matches the specified filters.\n"
     ]
    }
   ],
   "source": [
    "if not filtered_data.empty:\n",
    "    # Use Unicode-compatible font\n",
    "    plt.rcParams['font.family'] = 'DejaVu Sans'\n",
    "\n",
    "    # Translate categories\n",
    "    category_translations = {\n",
    "        'BEAUTY': 'सौंदर्य (Beauty)',     # Hindi\n",
    "        'BUSINESS': 'வணிகம் (Business)',  # Tamil\n",
    "        'DATING': 'Partnersuche (Dating)' # German\n",
    "    }\n",
    "    filtered_data['Category_Display'] = filtered_data['Category'].replace(category_translations)\n",
    "\n",
    "    # Color mapping\n",
    "    colors = ['pink' if cat == 'GAME' else 'skyblue' for cat in filtered_data['Category']]\n",
    "\n",
    "    # Plot\n",
    "    plt.figure(figsize=(16, 12), constrained_layout=True)\n",
    "    scatter = plt.scatter(\n",
    "        x=filtered_data['Size'],\n",
    "        y=filtered_data['Rating'],\n",
    "        s=filtered_data['Installs'] / 10000,\n",
    "        c=colors,\n",
    "        alpha=0.6,\n",
    "        edgecolors='grey',\n",
    "        linewidth=0.5\n",
    "    )\n",
    "\n",
    "    # Title and labels\n",
    "    plt.title('App Size vs Rating (Bubble Size = Installs)\\nFiltered by: Rating > 3.5, Reviews > 500, Installs > 50K', \n",
    "              pad=20, fontsize=14)\n",
    "    plt.xlabel('App Size (MB)', fontsize=12)\n",
    "    plt.ylabel('Average Rating', fontsize=12)\n",
    "\n",
    "    # Legend\n",
    "    game_patch = mpatches.Patch(color='pink', label='Game')\n",
    "    other_patch = mpatches.Patch(color='skyblue', label='Other Categories')\n",
    "    plt.legend(handles=[game_patch, other_patch], title='Categories', loc='upper right')\n",
    "\n",
    "    # Informative footer\n",
    "    plt.figtext(0.5, 0.01, \n",
    "                \"Note: Visible only between 5PM–7PM IST | सौंदर्य=Beauty | வணிகம்=Business | Partnersuche=Dating\",\n",
    "                ha=\"center\", fontsize=10, bbox={\"facecolor\":\"orange\", \"alpha\":0.5, \"pad\":5})\n",
    "\n",
    "    # Annotate large bubbles\n",
    "    for i, row in filtered_data.iterrows():\n",
    "        if row['Installs'] > 1000000:\n",
    "            plt.annotate(\n",
    "                row['App'], \n",
    "                (row['Size'], row['Rating']),\n",
    "                textcoords=\"offset points\",\n",
    "                xytext=(0, 5),\n",
    "                ha='center',\n",
    "                fontsize=8\n",
    "            )\n",
    "\n",
    "    plt.grid(True, alpha=0.3)\n",
    "    plt.tight_layout()\n",
    "    plt.show()\n",
    "else:\n",
    "    current_time = datetime.now(pytz.timezone('Asia/Kolkata')).strftime('%H:%M:%S')\n",
    "    print(f\"⏰ Current time is {current_time} IST. The chart is visible only between 17:00 and 19:00 IST.\")\n",
    "    print(\"Or no data matches the specified filters.\")\n"
   ]
  },
  {
   "cell_type": "code",
   "execution_count": null,
   "id": "8fb7152a-b7bc-45c0-b210-7f1490c4affb",
   "metadata": {},
   "outputs": [],
   "source": []
  }
 ],
 "metadata": {
  "kernelspec": {
   "display_name": "Python 3 (ipykernel)",
   "language": "python",
   "name": "python3"
  },
  "language_info": {
   "codemirror_mode": {
    "name": "ipython",
    "version": 3
   },
   "file_extension": ".py",
   "mimetype": "text/x-python",
   "name": "python",
   "nbconvert_exporter": "python",
   "pygments_lexer": "ipython3",
   "version": "3.13.4"
  }
 },
 "nbformat": 4,
 "nbformat_minor": 5
}
