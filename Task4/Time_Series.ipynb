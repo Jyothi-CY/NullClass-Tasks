{
 "cells": [
  {
   "cell_type": "code",
   "execution_count": 1,
   "id": "38901104-e2b5-433b-8f98-b6fc71e513eb",
   "metadata": {},
   "outputs": [],
   "source": [
    "import pandas as pd\n",
    "import numpy as np\n",
    "import matplotlib.pyplot as plt\n",
    "import matplotlib.patches as patches\n",
    "from datetime import datetime, time\n",
    "import pytz\n",
    "import warnings\n",
    "warnings.filterwarnings('ignore')  "
   ]
  },
  {
   "cell_type": "code",
   "execution_count": 2,
   "id": "de3027a1-df6c-4b06-879d-2d718976ad31",
   "metadata": {},
   "outputs": [],
   "source": [
    "# Time Validation Function\n",
    "def is_within_time_window():\n",
    "    \"\"\"Check if current time is within allowed 6PM-9PM IST window\"\"\"\n",
    "    ist = pytz.timezone('Asia/Kolkata')\n",
    "    current_time = datetime.now(ist).time()\n",
    "    allowed_start = time(18, 0)\n",
    "    allowed_end = time(21, 0)\n",
    "    return allowed_start <= current_time <= allowed_end"
   ]
  },
  {
   "cell_type": "code",
   "execution_count": 3,
   "id": "499c9478-91b7-4156-be54-7d7a4e559dca",
   "metadata": {},
   "outputs": [],
   "source": [
    "# Data Loading and Preparation\n",
    "def load_and_prepare_data():\n",
    "    \"\"\"Load and prepare the datasets with all required filters\"\"\"\n",
    "    apps_df = pd.read_csv(\"E:/Data Analyst Intern Tasks/Jupyter/Cleaned Datasets/Cleaned_GooglePlaystore.csv\")\n",
    "    reviews_df = pd.read_csv(\"E:/Data Analyst Intern Tasks/Jupyter/Cleaned Datasets/Cleaned_UserReviews.csv\")\n",
    "    \n",
    "    # Convert date and create YearMonth column\n",
    "    apps_df['Last Updated'] = pd.to_datetime(apps_df['Last Updated'], format='%d-%m-%Y', errors='coerce')\n",
    "    apps_df = apps_df.dropna(subset=['Last Updated'])\n",
    "    apps_df['YearMonth'] = apps_df['Last Updated'].dt.to_period('M')\n",
    "    \n",
    "    return apps_df, reviews_df"
   ]
  },
  {
   "cell_type": "code",
   "execution_count": 4,
   "id": "7acc0de8-0ee1-403e-8ad9-55148d1c2c38",
   "metadata": {},
   "outputs": [],
   "source": [
    "# Data Filtering\n",
    "def filter_apps(apps_df, reviews_df):\n",
    "    \"\"\"Apply all specified filters to the apps data\"\"\"\n",
    "    # Merge with reviews data to get sentiment information\n",
    "    merged_df = pd.merge(apps_df, reviews_df.groupby('App')['Sentiment'].mean(), \n",
    "                         on='App', how='left')\n",
    "    filtered = apps_df[\n",
    "        (~apps_df['App'].str.lower().str.startswith(('x', 'y', 'z'))) &\n",
    "        (apps_df['Category'].str.upper().str.startswith(('E', 'C', 'B'))) &\n",
    "        (apps_df['Reviews'] > 500) &\n",
    "        (~apps_df['App'].str.contains('S', case=False)) &\n",
    "        (apps_df['Installs'] > 0)  # Exclude apps with 0 installs\n",
    "    ].copy()\n",
    "    \n",
    "    return filtered"
   ]
  },
  {
   "cell_type": "code",
   "execution_count": 5,
   "id": "26d15003-d899-4e56-8f71-3949aa7b4c68",
   "metadata": {},
   "outputs": [],
   "source": [
    "# Category Translation\n",
    "def translate_categories(df):\n",
    "    \"\"\"Apply category translations as specified\"\"\"\n",
    "    category_translations = {\n",
    "        'Beauty': 'सौंदर्य',\n",
    "        'Business': 'வணிகம்',  \n",
    "        'Dating': 'Dating' \n",
    "    }\n",
    "    df['Translated_Category'] = df['Category'].replace(category_translations)\n",
    "    return df"
   ]
  },
  {
   "cell_type": "code",
   "execution_count": 6,
   "id": "001428ac-f69c-44fb-95ac-6e0c62ca58db",
   "metadata": {},
   "outputs": [],
   "source": [
    "# Time Series Analysis\n",
    "def prepare_time_series_data(filtered_df):\n",
    "    \"\"\"Prepare time series data with growth calculations\"\"\"\n",
    "    ts_data = filtered_df.groupby(['Translated_Category', 'YearMonth'])['Installs'].sum().unstack(level=0)\n",
    "    \n",
    "    # Fill missing months with 0 and forward fill\n",
    "    ts_data = ts_data.resample('M').asfreq().fillna(0)\n",
    "\n",
    "    growth = ts_data.pct_change()\n",
    "    significant_growth = growth > 0.2\n",
    "    \n",
    "    return ts_data, growth, significant_growth"
   ]
  },
  {
   "cell_type": "code",
   "execution_count": 7,
   "id": "2e5a9173-c2e2-4a0b-aacd-b44b7851df05",
   "metadata": {},
   "outputs": [],
   "source": [
    "# Visualization\n",
    "def create_visualization(ts_data, significant_growth):\n",
    "    \"\"\"Create the time series visualization with growth highlights\"\"\"\n",
    "    plt.figure(figsize=(16, 8))\n",
    "    ax = plt.gca()\n",
    "    \n",
    "    # Custom color palette for categories\n",
    "    colors = plt.cm.tab20(np.linspace(0, 1, len(ts_data.columns)))\n",
    "    \n",
    "    for idx, category in enumerate(ts_data.columns):\n",
    "        x = ts_data.index.to_timestamp()\n",
    "        y = ts_data[category]\n",
    "        \n",
    "        # Plot main line with custom styling\n",
    "        line, = plt.plot(x, y, label=category, marker='o', \n",
    "                         color=colors[idx], linewidth=2.5, markersize=8)\n",
    "        \n",
    "        # Highlight significant growth periods\n",
    "        for i in range(1, len(significant_growth)):\n",
    "            if significant_growth.iloc[i][category]:\n",
    "                # Create gradient-filled growth areas\n",
    "                plt.fill_between(\n",
    "                    x[i-1:i+1],\n",
    "                    y[i-1:i+1],\n",
    "                    color=colors[idx],\n",
    "                    alpha=0.2,\n",
    "                    edgecolor=colors[idx],\n",
    "                    linewidth=0.5\n",
    "                )\n",
    "                # Add growth annotation\n",
    "                if y[i] > 0:\n",
    "                    ax.annotate(f\"+{growth.iloc[i][category]*100:.0f}%\",\n",
    "                               xy=(x[i], y[i]),\n",
    "                               xytext=(5, 5), textcoords='offset points',\n",
    "                               color=colors[idx], fontweight='bold')\n",
    "    \n",
    "    # Advanced formatting\n",
    "    plt.title('Trend of Total Installs by Category\\n(Highlighting >20% Month-over-Month Growth)', \n",
    "              fontsize=14, pad=20)\n",
    "    plt.xlabel('Date', fontsize=12)\n",
    "    plt.ylabel('Total Installs (log scale)', fontsize=12)\n",
    "    plt.yscale('log')\n",
    "    \n",
    "    # Custom grid and spines\n",
    "    ax.grid(True, which='both', linestyle='--', linewidth=0.5, alpha=0.7)\n",
    "    for spine in ['top', 'right']:\n",
    "        ax.spines[spine].set_visible(False)\n",
    "    \n",
    "    # Enhanced legend\n",
    "    legend = plt.legend(title='Category', bbox_to_anchor=(1.05, 1), \n",
    "                        loc='upper left', framealpha=1)\n",
    "    plt.setp(legend.get_title(), fontweight='bold')\n",
    "    \n",
    "    # Rotate and align x-axis labels\n",
    "    plt.xticks(rotation=45, ha='right')\n",
    "    \n",
    "    # Adjust layout\n",
    "    plt.tight_layout()\n",
    "    \n",
    "    # Add watermark with time info\n",
    "    plt.text(0.95, 0.02, f\"Generated at {datetime.now().strftime('%Y-%m-%d %H:%M')} IST\",\n",
    "             transform=ax.transAxes, fontsize=8, color='gray', alpha=0.7,\n",
    "             ha='right', va='bottom')\n",
    "    \n",
    "    return plt"
   ]
  },
  {
   "cell_type": "code",
   "execution_count": 8,
   "id": "f7544f10-9d6b-40f3-b16a-c1e3ee68e4f9",
   "metadata": {},
   "outputs": [
    {
     "name": "stdout",
     "output_type": "stream",
     "text": [
      "Current time is 01:07 IST. Graph display is only available between 18:00-21:00 IST.\n"
     ]
    }
   ],
   "source": [
    "#  Main Execution Flow\n",
    "if __name__ == \"__main__\":\n",
    "    if is_within_time_window():\n",
    "        print(\"Processing data...\")\n",
    "        \n",
    "        # Data pipeline\n",
    "        apps_df, reviews_df = load_and_prepare_data()\n",
    "        filtered_apps = filter_apps(apps_df, reviews_df)\n",
    "        translated_apps = translate_categories(filtered_apps)\n",
    "        ts_data, growth, significant_growth = prepare_time_series_data(translated_apps)\n",
    "        \n",
    "        # Visualization\n",
    "        plot = create_visualization(ts_data, significant_growth)\n",
    "        plot.show()\n",
    "    else:\n",
    "        current_time = datetime.now(pytz.timezone('Asia/Kolkata')).strftime('%H:%M')\n",
    "        print(f\"Current time is {current_time} IST. Graph display is only available between 18:00-21:00 IST.\")"
   ]
  },
  {
   "cell_type": "code",
   "execution_count": null,
   "id": "6e89cf2c-0d10-428b-b71c-7f51eda3b725",
   "metadata": {},
   "outputs": [],
   "source": []
  },
  {
   "cell_type": "code",
   "execution_count": null,
   "id": "3a329e3e-c636-49b4-a36e-ee26f2120970",
   "metadata": {},
   "outputs": [],
   "source": []
  }
 ],
 "metadata": {
  "kernelspec": {
   "display_name": "Python 3 (ipykernel)",
   "language": "python",
   "name": "python3"
  },
  "language_info": {
   "codemirror_mode": {
    "name": "ipython",
    "version": 3
   },
   "file_extension": ".py",
   "mimetype": "text/x-python",
   "name": "python",
   "nbconvert_exporter": "python",
   "pygments_lexer": "ipython3",
   "version": "3.13.4"
  }
 },
 "nbformat": 4,
 "nbformat_minor": 5
}
